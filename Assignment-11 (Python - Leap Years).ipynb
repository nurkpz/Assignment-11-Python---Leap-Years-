{
 "cells": [
  {
   "cell_type": "code",
   "execution_count": null,
   "id": "a0ab1e8c",
   "metadata": {},
   "outputs": [],
   "source": [
    "year = int(input(\"Enter a 4-digit year : \"))\n",
    "if year % 4 == 0 :\n",
    "    if year % 100 != 0 or year % 400 == 0 :\n",
    "        print(f\"{year} is a leap year\")\n",
    "    else:\n",
    "        print(f\"{year} is not a leap year\")\n",
    "else:\n",
    "        print(f\"{year} is not a leap year\")"
   ]
  }
 ],
 "metadata": {
  "kernelspec": {
   "display_name": "Python 3 (ipykernel)",
   "language": "python",
   "name": "python3"
  },
  "language_info": {
   "codemirror_mode": {
    "name": "ipython",
    "version": 3
   },
   "file_extension": ".py",
   "mimetype": "text/x-python",
   "name": "python",
   "nbconvert_exporter": "python",
   "pygments_lexer": "ipython3",
   "version": "3.9.12"
  }
 },
 "nbformat": 4,
 "nbformat_minor": 5
}
